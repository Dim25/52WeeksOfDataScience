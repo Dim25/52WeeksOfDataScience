{
 "cells": [
  {
   "cell_type": "code",
   "execution_count": 27,
   "metadata": {},
   "outputs": [],
   "source": [
    "import pandas as pd\n",
    "import spacy\n",
    "nlp = spacy.load('en')\n",
    "from sklearn.feature_extraction.text import CountVectorizer\n",
    "from sklearn.linear_model import LogisticRegression\n",
    "from sklearn import metrics\n",
    "import string\n",
    "from nltk.corpus import stopwords\n",
    "from sklearn.feature_extraction.text import TfidfTransformer\n",
    "from sklearn.naive_bayes import MultinomialNB\n"
   ]
  },
  {
   "cell_type": "code",
   "execution_count": 81,
   "metadata": {},
   "outputs": [],
   "source": [
    "df = pd.read_csv(\"./data/Combined_News_DJIA.csv\")"
   ]
  },
  {
   "cell_type": "code",
   "execution_count": 82,
   "metadata": {},
   "outputs": [
    {
     "data": {
      "text/html": [
       "<div>\n",
       "<style scoped>\n",
       "    .dataframe tbody tr th:only-of-type {\n",
       "        vertical-align: middle;\n",
       "    }\n",
       "\n",
       "    .dataframe tbody tr th {\n",
       "        vertical-align: top;\n",
       "    }\n",
       "\n",
       "    .dataframe thead th {\n",
       "        text-align: right;\n",
       "    }\n",
       "</style>\n",
       "<table border=\"1\" class=\"dataframe\">\n",
       "  <thead>\n",
       "    <tr style=\"text-align: right;\">\n",
       "      <th></th>\n",
       "      <th>Date</th>\n",
       "      <th>Label</th>\n",
       "      <th>Top1</th>\n",
       "      <th>Top2</th>\n",
       "      <th>Top3</th>\n",
       "      <th>Top4</th>\n",
       "      <th>Top5</th>\n",
       "      <th>Top6</th>\n",
       "      <th>Top7</th>\n",
       "      <th>Top8</th>\n",
       "      <th>...</th>\n",
       "      <th>Top19</th>\n",
       "      <th>Top20</th>\n",
       "      <th>Top21</th>\n",
       "      <th>Top22</th>\n",
       "      <th>Top23</th>\n",
       "      <th>Top24</th>\n",
       "      <th>Top25</th>\n",
       "      <th>Adjusted Label</th>\n",
       "      <th>Nasdaq</th>\n",
       "      <th>S&amp;P500</th>\n",
       "    </tr>\n",
       "  </thead>\n",
       "  <tbody>\n",
       "    <tr>\n",
       "      <th>0</th>\n",
       "      <td>8/8/2008</td>\n",
       "      <td>0</td>\n",
       "      <td>Georgia 'downs two Russian warplanes' as count...</td>\n",
       "      <td>BREAKING: Musharraf to be impeached.'</td>\n",
       "      <td>Russia Today: Columns of troops roll into Sout...</td>\n",
       "      <td>Russian tanks are moving towards the capital o...</td>\n",
       "      <td>Afghan children raped with 'impunity,' U.N. of...</td>\n",
       "      <td>150 Russian tanks have entered South Ossetia w...</td>\n",
       "      <td>Breaking: Georgia invades South Ossetia, Russi...</td>\n",
       "      <td>The 'enemy combatent' trials are nothing but a...</td>\n",
       "      <td>...</td>\n",
       "      <td>This is a busy day:  The European Union has ap...</td>\n",
       "      <td>Georgia will withdraw 1,000 soldiers from Iraq...</td>\n",
       "      <td>Why the Pentagon Thinks Attacking Iran is a Ba...</td>\n",
       "      <td>Caucasus in crisis: Georgia invades South Osse...</td>\n",
       "      <td>Indian shoe manufactory  - And again in a seri...</td>\n",
       "      <td>Visitors Suffering from Mental Illnesses Banne...</td>\n",
       "      <td>No Help for Mexico's Kidnapping Surge\"</td>\n",
       "      <td>1</td>\n",
       "      <td>1</td>\n",
       "      <td>1</td>\n",
       "    </tr>\n",
       "  </tbody>\n",
       "</table>\n",
       "<p>1 rows × 30 columns</p>\n",
       "</div>"
      ],
      "text/plain": [
       "       Date  Label                                               Top1  \\\n",
       "0  8/8/2008      0  Georgia 'downs two Russian warplanes' as count...   \n",
       "\n",
       "                                    Top2  \\\n",
       "0  BREAKING: Musharraf to be impeached.'   \n",
       "\n",
       "                                                Top3  \\\n",
       "0  Russia Today: Columns of troops roll into Sout...   \n",
       "\n",
       "                                                Top4  \\\n",
       "0  Russian tanks are moving towards the capital o...   \n",
       "\n",
       "                                                Top5  \\\n",
       "0  Afghan children raped with 'impunity,' U.N. of...   \n",
       "\n",
       "                                                Top6  \\\n",
       "0  150 Russian tanks have entered South Ossetia w...   \n",
       "\n",
       "                                                Top7  \\\n",
       "0  Breaking: Georgia invades South Ossetia, Russi...   \n",
       "\n",
       "                                                Top8  ...    \\\n",
       "0  The 'enemy combatent' trials are nothing but a...  ...     \n",
       "\n",
       "                                               Top19  \\\n",
       "0  This is a busy day:  The European Union has ap...   \n",
       "\n",
       "                                               Top20  \\\n",
       "0  Georgia will withdraw 1,000 soldiers from Iraq...   \n",
       "\n",
       "                                               Top21  \\\n",
       "0  Why the Pentagon Thinks Attacking Iran is a Ba...   \n",
       "\n",
       "                                               Top22  \\\n",
       "0  Caucasus in crisis: Georgia invades South Osse...   \n",
       "\n",
       "                                               Top23  \\\n",
       "0  Indian shoe manufactory  - And again in a seri...   \n",
       "\n",
       "                                               Top24  \\\n",
       "0  Visitors Suffering from Mental Illnesses Banne...   \n",
       "\n",
       "                                    Top25 Adjusted Label Nasdaq S&P500  \n",
       "0  No Help for Mexico's Kidnapping Surge\"              1      1      1  \n",
       "\n",
       "[1 rows x 30 columns]"
      ]
     },
     "execution_count": 82,
     "metadata": {},
     "output_type": "execute_result"
    }
   ],
   "source": [
    "df.head(1)"
   ]
  },
  {
   "cell_type": "code",
   "execution_count": 83,
   "metadata": {},
   "outputs": [],
   "source": [
    "df[\"combined\"] = df[\"Top1\"].astype(str)+' '+df['Top2']+' '+df['Top3']+' '+df['Top4']+' '+df['Top5']+' '+df['Top6']+' '+df['Top7']+' '+df['Top8']+' '+df['Top9']+' '+df['Top10']+' '+df['Top11']+' '+df['Top12']+' '+df['Top13']+' '+df['Top14']+' '+df['Top15']+' '+df['Top16']+' '+df['Top17']+' '+df['Top18']+' '+df['Top19']+' '+df['Top20']+' '+df['Top21']+' '+df['Top22']+' '+df['Top23']+' '+df['Top24']+' '+df['Top25']"
   ]
  },
  {
   "cell_type": "code",
   "execution_count": 84,
   "metadata": {},
   "outputs": [
    {
     "data": {
      "text/html": [
       "<div>\n",
       "<style scoped>\n",
       "    .dataframe tbody tr th:only-of-type {\n",
       "        vertical-align: middle;\n",
       "    }\n",
       "\n",
       "    .dataframe tbody tr th {\n",
       "        vertical-align: top;\n",
       "    }\n",
       "\n",
       "    .dataframe thead th {\n",
       "        text-align: right;\n",
       "    }\n",
       "</style>\n",
       "<table border=\"1\" class=\"dataframe\">\n",
       "  <thead>\n",
       "    <tr style=\"text-align: right;\">\n",
       "      <th></th>\n",
       "      <th>Date</th>\n",
       "      <th>Label</th>\n",
       "      <th>Top1</th>\n",
       "      <th>Top2</th>\n",
       "      <th>Top3</th>\n",
       "      <th>Top4</th>\n",
       "      <th>Top5</th>\n",
       "      <th>Top6</th>\n",
       "      <th>Top7</th>\n",
       "      <th>Top8</th>\n",
       "      <th>...</th>\n",
       "      <th>Top20</th>\n",
       "      <th>Top21</th>\n",
       "      <th>Top22</th>\n",
       "      <th>Top23</th>\n",
       "      <th>Top24</th>\n",
       "      <th>Top25</th>\n",
       "      <th>Adjusted Label</th>\n",
       "      <th>Nasdaq</th>\n",
       "      <th>S&amp;P500</th>\n",
       "      <th>combined</th>\n",
       "    </tr>\n",
       "  </thead>\n",
       "  <tbody>\n",
       "    <tr>\n",
       "      <th>0</th>\n",
       "      <td>8/8/2008</td>\n",
       "      <td>0</td>\n",
       "      <td>Georgia 'downs two Russian warplanes' as count...</td>\n",
       "      <td>BREAKING: Musharraf to be impeached.'</td>\n",
       "      <td>Russia Today: Columns of troops roll into Sout...</td>\n",
       "      <td>Russian tanks are moving towards the capital o...</td>\n",
       "      <td>Afghan children raped with 'impunity,' U.N. of...</td>\n",
       "      <td>150 Russian tanks have entered South Ossetia w...</td>\n",
       "      <td>Breaking: Georgia invades South Ossetia, Russi...</td>\n",
       "      <td>The 'enemy combatent' trials are nothing but a...</td>\n",
       "      <td>...</td>\n",
       "      <td>Georgia will withdraw 1,000 soldiers from Iraq...</td>\n",
       "      <td>Why the Pentagon Thinks Attacking Iran is a Ba...</td>\n",
       "      <td>Caucasus in crisis: Georgia invades South Osse...</td>\n",
       "      <td>Indian shoe manufactory  - And again in a seri...</td>\n",
       "      <td>Visitors Suffering from Mental Illnesses Banne...</td>\n",
       "      <td>No Help for Mexico's Kidnapping Surge\"</td>\n",
       "      <td>1</td>\n",
       "      <td>1</td>\n",
       "      <td>1</td>\n",
       "      <td>Georgia 'downs two Russian warplanes' as count...</td>\n",
       "    </tr>\n",
       "  </tbody>\n",
       "</table>\n",
       "<p>1 rows × 31 columns</p>\n",
       "</div>"
      ],
      "text/plain": [
       "       Date  Label                                               Top1  \\\n",
       "0  8/8/2008      0  Georgia 'downs two Russian warplanes' as count...   \n",
       "\n",
       "                                    Top2  \\\n",
       "0  BREAKING: Musharraf to be impeached.'   \n",
       "\n",
       "                                                Top3  \\\n",
       "0  Russia Today: Columns of troops roll into Sout...   \n",
       "\n",
       "                                                Top4  \\\n",
       "0  Russian tanks are moving towards the capital o...   \n",
       "\n",
       "                                                Top5  \\\n",
       "0  Afghan children raped with 'impunity,' U.N. of...   \n",
       "\n",
       "                                                Top6  \\\n",
       "0  150 Russian tanks have entered South Ossetia w...   \n",
       "\n",
       "                                                Top7  \\\n",
       "0  Breaking: Georgia invades South Ossetia, Russi...   \n",
       "\n",
       "                                                Top8  \\\n",
       "0  The 'enemy combatent' trials are nothing but a...   \n",
       "\n",
       "                         ...                          \\\n",
       "0                        ...                           \n",
       "\n",
       "                                               Top20  \\\n",
       "0  Georgia will withdraw 1,000 soldiers from Iraq...   \n",
       "\n",
       "                                               Top21  \\\n",
       "0  Why the Pentagon Thinks Attacking Iran is a Ba...   \n",
       "\n",
       "                                               Top22  \\\n",
       "0  Caucasus in crisis: Georgia invades South Osse...   \n",
       "\n",
       "                                               Top23  \\\n",
       "0  Indian shoe manufactory  - And again in a seri...   \n",
       "\n",
       "                                               Top24  \\\n",
       "0  Visitors Suffering from Mental Illnesses Banne...   \n",
       "\n",
       "                                    Top25 Adjusted Label Nasdaq S&P500  \\\n",
       "0  No Help for Mexico's Kidnapping Surge\"              1      1      1   \n",
       "\n",
       "                                            combined  \n",
       "0  Georgia 'downs two Russian warplanes' as count...  \n",
       "\n",
       "[1 rows x 31 columns]"
      ]
     },
     "execution_count": 84,
     "metadata": {},
     "output_type": "execute_result"
    }
   ],
   "source": [
    "df.head(1)"
   ]
  },
  {
   "cell_type": "code",
   "execution_count": 85,
   "metadata": {},
   "outputs": [],
   "source": [
    "df.drop([ 'Top1', 'Top2', 'Top3', 'Top4', 'Top5', 'Top6', 'Top7',\n",
    "       'Top8', 'Top9', 'Top10', 'Top11', 'Top12', 'Top13', 'Top14', 'Top15',\n",
    "       'Top16', 'Top17', 'Top18', 'Top19', 'Top20', 'Top21', 'Top22', 'Top23',\n",
    "       'Top24', 'Top25'],inplace=True,axis=1)"
   ]
  },
  {
   "cell_type": "code",
   "execution_count": 86,
   "metadata": {},
   "outputs": [
    {
     "data": {
      "text/html": [
       "<div>\n",
       "<style scoped>\n",
       "    .dataframe tbody tr th:only-of-type {\n",
       "        vertical-align: middle;\n",
       "    }\n",
       "\n",
       "    .dataframe tbody tr th {\n",
       "        vertical-align: top;\n",
       "    }\n",
       "\n",
       "    .dataframe thead th {\n",
       "        text-align: right;\n",
       "    }\n",
       "</style>\n",
       "<table border=\"1\" class=\"dataframe\">\n",
       "  <thead>\n",
       "    <tr style=\"text-align: right;\">\n",
       "      <th></th>\n",
       "      <th>Date</th>\n",
       "      <th>Label</th>\n",
       "      <th>Adjusted Label</th>\n",
       "      <th>Nasdaq</th>\n",
       "      <th>S&amp;P500</th>\n",
       "      <th>combined</th>\n",
       "    </tr>\n",
       "  </thead>\n",
       "  <tbody>\n",
       "    <tr>\n",
       "      <th>0</th>\n",
       "      <td>8/8/2008</td>\n",
       "      <td>0</td>\n",
       "      <td>1</td>\n",
       "      <td>1</td>\n",
       "      <td>1</td>\n",
       "      <td>Georgia 'downs two Russian warplanes' as count...</td>\n",
       "    </tr>\n",
       "  </tbody>\n",
       "</table>\n",
       "</div>"
      ],
      "text/plain": [
       "       Date  Label  Adjusted Label  Nasdaq  S&P500  \\\n",
       "0  8/8/2008      0               1       1       1   \n",
       "\n",
       "                                            combined  \n",
       "0  Georgia 'downs two Russian warplanes' as count...  "
      ]
     },
     "execution_count": 86,
     "metadata": {},
     "output_type": "execute_result"
    }
   ],
   "source": [
    "df.head(1)"
   ]
  },
  {
   "cell_type": "code",
   "execution_count": 87,
   "metadata": {},
   "outputs": [],
   "source": [
    "def subjFunc(data, indexValue):\n",
    "    doc = nlp(data)\n",
    "\n",
    "    nounList = []\n",
    "    verbList = []\n",
    "    for token in doc:\n",
    "        if token.pos_ == \"PROPN\":\n",
    "            nounList.append(token.text)\n",
    "        if token.pos_ == \"VERB\":\n",
    "            verbList.append(token.text)\n",
    "\n",
    "    \n",
    "    nounString = nounList = ', '.join(nounList)\n",
    "    verbString = verbList = ', '.join(verbList)\n",
    "    \n",
    "    df.set_value(indexValue,\"noun\",nounString) \n",
    "    df.set_value(indexValue,\"verb\",verbString) "
   ]
  },
  {
   "cell_type": "code",
   "execution_count": 88,
   "metadata": {},
   "outputs": [],
   "source": [
    "df['combined'] = df['combined'].astype(str)"
   ]
  },
  {
   "cell_type": "code",
   "execution_count": 89,
   "metadata": {},
   "outputs": [
    {
     "name": "stderr",
     "output_type": "stream",
     "text": [
      "C:\\Users\\AK\\AppData\\Local\\Continuum\\anaconda3\\lib\\site-packages\\ipykernel_launcher.py:16: FutureWarning: set_value is deprecated and will be removed in a future release. Please use .at[] or .iat[] accessors instead\n",
      "  app.launch_new_instance()\n",
      "C:\\Users\\AK\\AppData\\Local\\Continuum\\anaconda3\\lib\\site-packages\\ipykernel_launcher.py:17: FutureWarning: set_value is deprecated and will be removed in a future release. Please use .at[] or .iat[] accessors instead\n"
     ]
    }
   ],
   "source": [
    "for row in range(0,len(df.index)):\n",
    "    subjFunc(df[\"combined\"][row],row)"
   ]
  },
  {
   "cell_type": "code",
   "execution_count": 90,
   "metadata": {},
   "outputs": [
    {
     "data": {
      "text/html": [
       "<div>\n",
       "<style scoped>\n",
       "    .dataframe tbody tr th:only-of-type {\n",
       "        vertical-align: middle;\n",
       "    }\n",
       "\n",
       "    .dataframe tbody tr th {\n",
       "        vertical-align: top;\n",
       "    }\n",
       "\n",
       "    .dataframe thead th {\n",
       "        text-align: right;\n",
       "    }\n",
       "</style>\n",
       "<table border=\"1\" class=\"dataframe\">\n",
       "  <thead>\n",
       "    <tr style=\"text-align: right;\">\n",
       "      <th></th>\n",
       "      <th>Date</th>\n",
       "      <th>Label</th>\n",
       "      <th>Adjusted Label</th>\n",
       "      <th>Nasdaq</th>\n",
       "      <th>S&amp;P500</th>\n",
       "      <th>combined</th>\n",
       "      <th>noun</th>\n",
       "      <th>verb</th>\n",
       "    </tr>\n",
       "  </thead>\n",
       "  <tbody>\n",
       "    <tr>\n",
       "      <th>1988</th>\n",
       "      <td>7/1/2016</td>\n",
       "      <td>1</td>\n",
       "      <td>1</td>\n",
       "      <td>1</td>\n",
       "      <td>1</td>\n",
       "      <td>A 117-year-old woman in Mexico City finally re...</td>\n",
       "      <td>Mexico, City, Trinidad, Alvarez, Lira, IMF, At...</td>\n",
       "      <td>received, died, had, waited, had, been, born, ...</td>\n",
       "    </tr>\n",
       "  </tbody>\n",
       "</table>\n",
       "</div>"
      ],
      "text/plain": [
       "          Date  Label  Adjusted Label  Nasdaq  S&P500  \\\n",
       "1988  7/1/2016      1               1       1       1   \n",
       "\n",
       "                                               combined  \\\n",
       "1988  A 117-year-old woman in Mexico City finally re...   \n",
       "\n",
       "                                                   noun  \\\n",
       "1988  Mexico, City, Trinidad, Alvarez, Lira, IMF, At...   \n",
       "\n",
       "                                                   verb  \n",
       "1988  received, died, had, waited, had, been, born, ...  "
      ]
     },
     "execution_count": 90,
     "metadata": {},
     "output_type": "execute_result"
    }
   ],
   "source": [
    "df.tail(1)"
   ]
  },
  {
   "cell_type": "code",
   "execution_count": 91,
   "metadata": {},
   "outputs": [],
   "source": [
    "df.drop(\"Label\",inplace=True, axis=1)"
   ]
  },
  {
   "cell_type": "code",
   "execution_count": 92,
   "metadata": {},
   "outputs": [
    {
     "data": {
      "text/html": [
       "<div>\n",
       "<style scoped>\n",
       "    .dataframe tbody tr th:only-of-type {\n",
       "        vertical-align: middle;\n",
       "    }\n",
       "\n",
       "    .dataframe tbody tr th {\n",
       "        vertical-align: top;\n",
       "    }\n",
       "\n",
       "    .dataframe thead th {\n",
       "        text-align: right;\n",
       "    }\n",
       "</style>\n",
       "<table border=\"1\" class=\"dataframe\">\n",
       "  <thead>\n",
       "    <tr style=\"text-align: right;\">\n",
       "      <th></th>\n",
       "      <th>Date</th>\n",
       "      <th>Adjusted Label</th>\n",
       "      <th>Nasdaq</th>\n",
       "      <th>S&amp;P500</th>\n",
       "      <th>combined</th>\n",
       "      <th>noun</th>\n",
       "      <th>verb</th>\n",
       "    </tr>\n",
       "  </thead>\n",
       "  <tbody>\n",
       "    <tr>\n",
       "      <th>0</th>\n",
       "      <td>8/8/2008</td>\n",
       "      <td>1</td>\n",
       "      <td>1</td>\n",
       "      <td>1</td>\n",
       "      <td>Georgia 'downs two Russian warplanes' as count...</td>\n",
       "      <td>Georgia, Russia, South, Ossetia, YouTube, Sout...</td>\n",
       "      <td>move, brink, be, impeached, roll, are, moving,...</td>\n",
       "    </tr>\n",
       "  </tbody>\n",
       "</table>\n",
       "</div>"
      ],
      "text/plain": [
       "       Date  Adjusted Label  Nasdaq  S&P500  \\\n",
       "0  8/8/2008               1       1       1   \n",
       "\n",
       "                                            combined  \\\n",
       "0  Georgia 'downs two Russian warplanes' as count...   \n",
       "\n",
       "                                                noun  \\\n",
       "0  Georgia, Russia, South, Ossetia, YouTube, Sout...   \n",
       "\n",
       "                                                verb  \n",
       "0  move, brink, be, impeached, roll, are, moving,...  "
      ]
     },
     "execution_count": 92,
     "metadata": {},
     "output_type": "execute_result"
    }
   ],
   "source": [
    "df.head(1)"
   ]
  },
  {
   "cell_type": "markdown",
   "metadata": {},
   "source": [
    "### Method 1 - Kaggle, 0 Lag, Noun, Dow"
   ]
  },
  {
   "cell_type": "code",
   "execution_count": 93,
   "metadata": {},
   "outputs": [],
   "source": [
    "nounTraining = []\n",
    "nounTest = []\n",
    "for row in range(0,1391):  \n",
    "    nounTraining.append((df[\"noun\"][row].lower()))\n",
    "\n",
    "for row in range(1392,1988):\n",
    "    nounTest.append((df[\"noun\"][row].lower()))"
   ]
  },
  {
   "cell_type": "code",
   "execution_count": 94,
   "metadata": {},
   "outputs": [
    {
     "name": "stdout",
     "output_type": "stream",
     "text": [
      "0.5251677852348994\n"
     ]
    }
   ],
   "source": [
    "advancedvectorizerMeth1 = CountVectorizer(ngram_range=(3,3))\n",
    "advancedtrainMeth1 = advancedvectorizerMeth1.fit_transform(nounTraining)\n",
    "\n",
    "advancedmodelMeth1 = LogisticRegression()\n",
    "advancedmodelMeth1 = advancedmodelMeth1.fit(advancedtrainMeth1, df[\"Adjusted Label\"][0:1391])\n",
    "\n",
    "advancedtestMeth1 = advancedvectorizerMeth1.transform(nounTest)\n",
    "advpredictionsMeth1 = advancedmodelMeth1.predict(advancedtestMeth1)\n",
    "\n",
    "print (metrics.accuracy_score(df[\"Adjusted Label\"][1392:1988], advpredictionsMeth1))"
   ]
  },
  {
   "cell_type": "markdown",
   "metadata": {},
   "source": [
    "### Method 2 - Kaggle, 0 Lag, Noun, Nasdaq"
   ]
  },
  {
   "cell_type": "code",
   "execution_count": 95,
   "metadata": {},
   "outputs": [
    {
     "name": "stdout",
     "output_type": "stream",
     "text": [
      "0.5369127516778524\n"
     ]
    }
   ],
   "source": [
    "advancedvectorizerMeth1 = CountVectorizer(ngram_range=(3,3))\n",
    "advancedtrainMeth1 = advancedvectorizerMeth1.fit_transform(nounTraining)\n",
    "\n",
    "advancedmodelMeth1 = LogisticRegression()\n",
    "advancedmodelMeth1 = advancedmodelMeth1.fit(advancedtrainMeth1, df[\"Nasdaq\"][0:1391])\n",
    "\n",
    "advancedtestMeth1 = advancedvectorizerMeth1.transform(nounTest)\n",
    "advpredictionsMeth1 = advancedmodelMeth1.predict(advancedtestMeth1)\n",
    "\n",
    "print (metrics.accuracy_score(df[\"Nasdaq\"][1392:1988], advpredictionsMeth1))"
   ]
  },
  {
   "cell_type": "markdown",
   "metadata": {},
   "source": [
    "### Method 2 - Kaggle, 0 Lag, Noun, S&P"
   ]
  },
  {
   "cell_type": "code",
   "execution_count": 97,
   "metadata": {},
   "outputs": [
    {
     "name": "stdout",
     "output_type": "stream",
     "text": [
      "0.5335570469798657\n"
     ]
    }
   ],
   "source": [
    "advancedvectorizerMeth1 = CountVectorizer(ngram_range=(3,3))\n",
    "advancedtrainMeth1 = advancedvectorizerMeth1.fit_transform(nounTraining)\n",
    "\n",
    "advancedmodelMeth1 = LogisticRegression()\n",
    "advancedmodelMeth1 = advancedmodelMeth1.fit(advancedtrainMeth1, df[\"S&P500\"][0:1391])\n",
    "\n",
    "advancedtestMeth1 = advancedvectorizerMeth1.transform(nounTest)\n",
    "advpredictionsMeth1 = advancedmodelMeth1.predict(advancedtestMeth1)\n",
    "\n",
    "print (metrics.accuracy_score(df[\"S&P500\"][1392:1988], advpredictionsMeth1))"
   ]
  },
  {
   "cell_type": "code",
   "execution_count": null,
   "metadata": {},
   "outputs": [],
   "source": []
  },
  {
   "cell_type": "markdown",
   "metadata": {},
   "source": [
    "### Method 4 - Kaggle, 0 Lag, Verb"
   ]
  },
  {
   "cell_type": "code",
   "execution_count": 56,
   "metadata": {},
   "outputs": [],
   "source": [
    "verbTraining = []\n",
    "verbTest = []\n",
    "for row in range(0,1391):  \n",
    "    verbTraining.append((df[\"verb\"][row].lower()))\n",
    "\n",
    "for row in range(1392,1988):\n",
    "    verbTest.append((df[\"verb\"][row].lower()))"
   ]
  },
  {
   "cell_type": "code",
   "execution_count": 58,
   "metadata": {},
   "outputs": [
    {
     "name": "stdout",
     "output_type": "stream",
     "text": [
      "0.540268456375839\n"
     ]
    }
   ],
   "source": [
    "advancedvectorizerMeth5 = CountVectorizer(ngram_range=(3,3))\n",
    "advancedtrainMeth5= advancedvectorizerMeth5.fit_transform(verbTraining)\n",
    "\n",
    "advancedmodelMeth5= LogisticRegression()\n",
    "advancedmodelMeth5= advancedmodelMeth5.fit(advancedtrainMeth5, df[\"Adjusted Label\"][0:1391])\n",
    "\n",
    "advancedtestMeth5 = advancedvectorizerMeth5.transform(verbTest)\n",
    "advpredictionsMeth5 = advancedmodelMeth5.predict(advancedtestMeth5)\n",
    "\n",
    "print (metrics.accuracy_score(df[\"Adjusted Label\"][1392:1988], advpredictionsMeth5))"
   ]
  },
  {
   "cell_type": "markdown",
   "metadata": {},
   "source": [
    "### Method 5 - Kaggle, 0 Lag, Verb, Nasdaq"
   ]
  },
  {
   "cell_type": "code",
   "execution_count": null,
   "metadata": {},
   "outputs": [],
   "source": []
  },
  {
   "cell_type": "code",
   "execution_count": null,
   "metadata": {},
   "outputs": [],
   "source": []
  },
  {
   "cell_type": "markdown",
   "metadata": {},
   "source": [
    "### Method 6 - Kaggle, 1 Lag, Verb"
   ]
  },
  {
   "cell_type": "code",
   "execution_count": 61,
   "metadata": {},
   "outputs": [
    {
     "name": "stdout",
     "output_type": "stream",
     "text": [
      "0.535234899328859\n"
     ]
    }
   ],
   "source": [
    "advancedvectorizerMeth6 = CountVectorizer(ngram_range=(4,4))\n",
    "advancedtrainMeth6 = advancedvectorizerMeth6.fit_transform(verbTraining)\n",
    "\n",
    "advancedmodelMeth6 = LogisticRegression()\n",
    "advancedmodelMeth6 = advancedmodelMeth6.fit(advancedtrainMeth6, df[\"laggedByOne\"][0:1391])\n",
    "\n",
    "advancedtestMeth6 = advancedvectorizerMeth6.transform(verbTest)\n",
    "advpredictionsMeth6 = advancedmodelMeth6.predict(advancedtestMeth6)\n",
    "\n",
    "print (metrics.accuracy_score(df[\"laggedByOne\"][1392:1988], advpredictionsMeth6))"
   ]
  },
  {
   "cell_type": "markdown",
   "metadata": {},
   "source": [
    "### Method 7 - Kaggle, 2 Lag, Verb"
   ]
  },
  {
   "cell_type": "code",
   "execution_count": 65,
   "metadata": {},
   "outputs": [
    {
     "name": "stdout",
     "output_type": "stream",
     "text": [
      "0.5419463087248322\n"
     ]
    }
   ],
   "source": [
    "advancedvectorizerMeth7 = CountVectorizer(ngram_range=(3,3))\n",
    "advancedtrainMeth7 = advancedvectorizerMeth7.fit_transform(verbTraining)\n",
    "\n",
    "advancedmodelMeth7 = LogisticRegression()\n",
    "advancedmodelMeth7 = advancedmodelMeth7.fit(advancedtrainMeth7, df[\"laggedByTwo\"][0:1391])\n",
    "\n",
    "advancedtestMeth7 = advancedvectorizerMeth7.transform(verbTest)\n",
    "advpredictionsMeth7 = advancedmodelMeth7.predict(advancedtestMeth7)\n",
    "\n",
    "print (metrics.accuracy_score(df[\"laggedByTwo\"][1392:1988], advpredictionsMeth7))"
   ]
  },
  {
   "cell_type": "markdown",
   "metadata": {},
   "source": [
    "### Method 8 - Kaggle, 0 Lag, Verb + Noun"
   ]
  },
  {
   "cell_type": "code",
   "execution_count": 66,
   "metadata": {},
   "outputs": [],
   "source": [
    "df[\"nounAndVerb\"] = df[\"noun\"].map(str) + df[\"verb\"]"
   ]
  },
  {
   "cell_type": "code",
   "execution_count": 67,
   "metadata": {},
   "outputs": [],
   "source": [
    "nounAndVerbTraining = []\n",
    "nounAndVerbTest = []\n",
    "for row in range(0,1391):  \n",
    "    nounAndVerbTraining.append((df[\"nounAndVerb\"][row].lower()))\n",
    "\n",
    "for row in range(1392,1988):\n",
    "    nounAndVerbTest.append((df[\"nounAndVerb\"][row].lower()))"
   ]
  },
  {
   "cell_type": "code",
   "execution_count": 69,
   "metadata": {},
   "outputs": [
    {
     "name": "stdout",
     "output_type": "stream",
     "text": [
      "0.5369127516778524\n"
     ]
    }
   ],
   "source": [
    "advancedvectorizerMeth9 = CountVectorizer(ngram_range=(3,3))\n",
    "advancedtrainMeth9 = advancedvectorizerMeth9.fit_transform(nounAndVerbTraining)\n",
    "\n",
    "advancedmodelMeth9 = LogisticRegression()\n",
    "advancedmodelMeth9 = advancedmodelMeth9.fit(advancedtrainMeth9, df[\"Adjusted Label\"][0:1391])\n",
    "\n",
    "advancedtestMeth9 = advancedvectorizerMeth9.transform(nounAndVerbTest)\n",
    "advpredictionsMeth9 = advancedmodelMeth9.predict(advancedtestMeth9)\n",
    "\n",
    "print (metrics.accuracy_score(df[\"Adjusted Label\"][1392:1988], advpredictionsMeth9))"
   ]
  },
  {
   "cell_type": "markdown",
   "metadata": {},
   "source": [
    "### Method 10 - Kaggle, 1 Lag, Verb + Noun"
   ]
  },
  {
   "cell_type": "code",
   "execution_count": 73,
   "metadata": {},
   "outputs": [
    {
     "name": "stdout",
     "output_type": "stream",
     "text": [
      "0.540268456375839\n"
     ]
    }
   ],
   "source": [
    "advancedvectorizerMeth10 = CountVectorizer(ngram_range=(3,3))\n",
    "advancedtrainMeth10 = advancedvectorizerMeth10.fit_transform(nounAndVerbTraining)\n",
    "\n",
    "advancedmodelMeth10 = LogisticRegression()\n",
    "advancedmodelMeth10 = advancedmodelMeth10.fit(advancedtrainMeth10, df[\"laggedByOne\"][0:1391])\n",
    "\n",
    "advancedtestMeth10 = advancedvectorizerMeth10.transform(nounAndVerbTest)\n",
    "advpredictionsMeth10 = advancedmodelMeth10.predict(advancedtestMeth10)\n",
    "\n",
    "print (metrics.accuracy_score(df[\"laggedByOne\"][1392:1988], advpredictionsMeth10))"
   ]
  },
  {
   "cell_type": "markdown",
   "metadata": {},
   "source": [
    "### Method 11 - Kaggle, 2 Lag, Verb + Noun"
   ]
  },
  {
   "cell_type": "code",
   "execution_count": 75,
   "metadata": {},
   "outputs": [
    {
     "name": "stdout",
     "output_type": "stream",
     "text": [
      "0.5419463087248322\n"
     ]
    }
   ],
   "source": [
    "advancedvectorizerMeth11 = CountVectorizer(ngram_range=(3,3))\n",
    "advancedtrainMeth11 = advancedvectorizerMeth11.fit_transform(nounAndVerbTraining)\n",
    "\n",
    "advancedmodelMeth11 = LogisticRegression()\n",
    "advancedmodelMeth11 = advancedmodelMeth11.fit(advancedtrainMeth11, df[\"laggedByTwo\"][0:1391])\n",
    "\n",
    "advancedtestMeth11 = advancedvectorizerMeth11.transform(nounAndVerbTest)\n",
    "advpredictionsMeth11 = advancedmodelMeth11.predict(advancedtestMeth11)\n",
    "\n",
    "print (metrics.accuracy_score(df[\"laggedByTwo\"][1392:1988], advpredictionsMeth11))"
   ]
  },
  {
   "cell_type": "markdown",
   "metadata": {},
   "source": [
    "### Method 12 - Straight Kaggle"
   ]
  },
  {
   "cell_type": "code",
   "execution_count": 76,
   "metadata": {},
   "outputs": [],
   "source": [
    "kaggleTraining = []\n",
    "kaggleTest = []\n",
    "for row in range(0,1391):  \n",
    "    kaggleTraining.append((df[\"combined\"][row].lower()))\n",
    "\n",
    "for row in range(1392,1988):\n",
    "    kaggleTest.append((df[\"combined\"][row].lower()))"
   ]
  },
  {
   "cell_type": "code",
   "execution_count": 80,
   "metadata": {},
   "outputs": [
    {
     "name": "stdout",
     "output_type": "stream",
     "text": [
      "0.5654362416107382\n"
     ]
    }
   ],
   "source": [
    "advancedvectorizer12 = CountVectorizer(ngram_range=(2,2))\n",
    "advancedtrain12 = advancedvectorizer12.fit_transform(kaggleTraining)\n",
    "\n",
    "advancedmodel12 = LogisticRegression()\n",
    "advancedmodel12 = advancedmodel12.fit(advancedtrain12, df[\"Adjusted Label\"][0:1391])\n",
    "\n",
    "advancedtest12 = advancedvectorizer12.transform(kaggleTest)\n",
    "advpredictions12 = advancedmodel12.predict(advancedtest12)\n",
    "\n",
    "print (metrics.accuracy_score(df[\"Adjusted Label\"][1392:1988], advpredictions12))"
   ]
  },
  {
   "cell_type": "code",
   "execution_count": 99,
   "metadata": {},
   "outputs": [
    {
     "name": "stdout",
     "output_type": "stream",
     "text": [
      "0.5436241610738255\n"
     ]
    }
   ],
   "source": [
    "advancedvectorizer12 = CountVectorizer(ngram_range=(3,3))\n",
    "advancedtrain12 = advancedvectorizer12.fit_transform(kaggleTraining)\n",
    "\n",
    "advancedmodel12 = LogisticRegression()\n",
    "advancedmodel12 = advancedmodel12.fit(advancedtrain12, df[\"Nasdaq\"][0:1391])\n",
    "\n",
    "advancedtest12 = advancedvectorizer12.transform(kaggleTest)\n",
    "advpredictions12 = advancedmodel12.predict(advancedtest12)\n",
    "\n",
    "print (metrics.accuracy_score(df[\"Nasdaq\"][1392:1988], advpredictions12))"
   ]
  },
  {
   "cell_type": "code",
   "execution_count": 101,
   "metadata": {},
   "outputs": [
    {
     "name": "stdout",
     "output_type": "stream",
     "text": [
      "0.5369127516778524\n"
     ]
    }
   ],
   "source": [
    "advancedvectorizer12 = CountVectorizer(ngram_range=(2,2))\n",
    "advancedtrain12 = advancedvectorizer12.fit_transform(kaggleTraining)\n",
    "\n",
    "advancedmodel12 = LogisticRegression()\n",
    "advancedmodel12 = advancedmodel12.fit(advancedtrain12, df[\"S&P500\"][0:1391])\n",
    "\n",
    "advancedtest12 = advancedvectorizer12.transform(kaggleTest)\n",
    "advpredictions12 = advancedmodel12.predict(advancedtest12)\n",
    "\n",
    "print (metrics.accuracy_score(df[\"S&P500\"][1392:1988], advpredictions12))"
   ]
  },
  {
   "cell_type": "code",
   "execution_count": null,
   "metadata": {},
   "outputs": [],
   "source": []
  }
 ],
 "metadata": {
  "kernelspec": {
   "display_name": "Python 3",
   "language": "python",
   "name": "python3"
  },
  "language_info": {
   "codemirror_mode": {
    "name": "ipython",
    "version": 3
   },
   "file_extension": ".py",
   "mimetype": "text/x-python",
   "name": "python",
   "nbconvert_exporter": "python",
   "pygments_lexer": "ipython3",
   "version": "3.6.4"
  }
 },
 "nbformat": 4,
 "nbformat_minor": 2
}
