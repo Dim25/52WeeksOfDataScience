{
 "cells": [
  {
   "cell_type": "code",
   "execution_count": 12,
   "metadata": {},
   "outputs": [
    {
     "name": "stdout",
     "output_type": "stream",
     "text": [
      "Checking whether there is an H2O instance running at http://localhost:54321..... not found.\n",
      "Attempting to start a local H2O server...\n",
      "; OpenJDK 64-Bit Server VM (Zulu 8.20.0.5-win64) (build 25.121-b15, mixed mode)\n",
      "  Starting server from C:\\Users\\AK\\AppData\\Local\\Continuum\\anaconda3\\lib\\site-packages\\h2o\\backend\\bin\\h2o.jar\n",
      "  Ice root: C:\\Users\\AK\\AppData\\Local\\Temp\\tmplmrn12tn\n",
      "  JVM stdout: C:\\Users\\AK\\AppData\\Local\\Temp\\tmplmrn12tn\\h2o_AK_started_from_python.out\n",
      "  JVM stderr: C:\\Users\\AK\\AppData\\Local\\Temp\\tmplmrn12tn\\h2o_AK_started_from_python.err\n",
      "  Server is running at http://127.0.0.1:54321\n",
      "Connecting to H2O server at http://127.0.0.1:54321... successful.\n"
     ]
    },
    {
     "data": {
      "text/html": [
       "<div style=\"overflow:auto\"><table style=\"width:50%\"><tr><td>H2O cluster uptime:</td>\n",
       "<td>01 secs</td></tr>\n",
       "<tr><td>H2O cluster timezone:</td>\n",
       "<td>America/Chicago</td></tr>\n",
       "<tr><td>H2O data parsing timezone:</td>\n",
       "<td>UTC</td></tr>\n",
       "<tr><td>H2O cluster version:</td>\n",
       "<td>3.18.0.2</td></tr>\n",
       "<tr><td>H2O cluster version age:</td>\n",
       "<td>2 months and 10 days </td></tr>\n",
       "<tr><td>H2O cluster name:</td>\n",
       "<td>H2O_from_python_AK_4r9463</td></tr>\n",
       "<tr><td>H2O cluster total nodes:</td>\n",
       "<td>1</td></tr>\n",
       "<tr><td>H2O cluster free memory:</td>\n",
       "<td>3.543 Gb</td></tr>\n",
       "<tr><td>H2O cluster total cores:</td>\n",
       "<td>12</td></tr>\n",
       "<tr><td>H2O cluster allowed cores:</td>\n",
       "<td>12</td></tr>\n",
       "<tr><td>H2O cluster status:</td>\n",
       "<td>accepting new members, healthy</td></tr>\n",
       "<tr><td>H2O connection url:</td>\n",
       "<td>http://127.0.0.1:54321</td></tr>\n",
       "<tr><td>H2O connection proxy:</td>\n",
       "<td>None</td></tr>\n",
       "<tr><td>H2O internal security:</td>\n",
       "<td>False</td></tr>\n",
       "<tr><td>H2O API Extensions:</td>\n",
       "<td>Algos, AutoML, Core V3, Core V4</td></tr>\n",
       "<tr><td>Python version:</td>\n",
       "<td>3.6.4 final</td></tr></table></div>"
      ],
      "text/plain": [
       "--------------------------  -------------------------------\n",
       "H2O cluster uptime:         01 secs\n",
       "H2O cluster timezone:       America/Chicago\n",
       "H2O data parsing timezone:  UTC\n",
       "H2O cluster version:        3.18.0.2\n",
       "H2O cluster version age:    2 months and 10 days\n",
       "H2O cluster name:           H2O_from_python_AK_4r9463\n",
       "H2O cluster total nodes:    1\n",
       "H2O cluster free memory:    3.543 Gb\n",
       "H2O cluster total cores:    12\n",
       "H2O cluster allowed cores:  12\n",
       "H2O cluster status:         accepting new members, healthy\n",
       "H2O connection url:         http://127.0.0.1:54321\n",
       "H2O connection proxy:\n",
       "H2O internal security:      False\n",
       "H2O API Extensions:         Algos, AutoML, Core V3, Core V4\n",
       "Python version:             3.6.4 final\n",
       "--------------------------  -------------------------------"
      ]
     },
     "metadata": {},
     "output_type": "display_data"
    }
   ],
   "source": [
    "import h2o\n",
    "from h2o.automl import H2OAutoML\n",
    "h2o.init()"
   ]
  },
  {
   "cell_type": "code",
   "execution_count": 13,
   "metadata": {},
   "outputs": [
    {
     "name": "stdout",
     "output_type": "stream",
     "text": [
      "Parse progress: |█████████████████████████████████████████████████████████| 100%\n",
      "Rows:889\n",
      "Cols:10\n",
      "\n",
      "\n"
     ]
    },
    {
     "data": {
      "text/html": [
       "<table>\n",
       "<thead>\n",
       "<tr><th>       </th><th>C1                </th><th>Survived  </th><th>Pclass            </th><th>Age               </th><th>SibSp             </th><th>Parch             </th><th>Fare              </th><th>male               </th><th>Q                  </th><th>S                  </th></tr>\n",
       "</thead>\n",
       "<tbody>\n",
       "<tr><td>type   </td><td>int               </td><td>enum      </td><td>int               </td><td>real              </td><td>int               </td><td>int               </td><td>real              </td><td>int                </td><td>int                </td><td>int                </td></tr>\n",
       "<tr><td>mins   </td><td>0.0               </td><td>          </td><td>1.0               </td><td>0.42              </td><td>0.0               </td><td>0.0               </td><td>0.0               </td><td>0.0                </td><td>0.0                </td><td>0.0                </td></tr>\n",
       "<tr><td>mean   </td><td>444.9999999999996 </td><td>          </td><td>2.3115860517435305</td><td>29.01931383577049 </td><td>0.5241844769403834</td><td>0.382452193475815 </td><td>32.096680877390284</td><td>0.6490438695163104 </td><td>0.08661417322834646</td><td>0.7244094488188977 </td></tr>\n",
       "<tr><td>maxs   </td><td>890.0             </td><td>          </td><td>3.0               </td><td>80.0              </td><td>8.0               </td><td>6.0               </td><td>512.3292          </td><td>1.0                </td><td>1.0                </td><td>1.0                </td></tr>\n",
       "<tr><td>sigma  </td><td>256.99817277718313</td><td>          </td><td>0.8346997785705753</td><td>13.209814246765688</td><td>1.103704875596923 </td><td>0.8067607445174785</td><td>49.69750431670795 </td><td>0.47753789445536765</td><td>0.28142716374328025</td><td>0.44706288098013564</td></tr>\n",
       "<tr><td>zeros  </td><td>1                 </td><td>          </td><td>0                 </td><td>0                 </td><td>606               </td><td>676               </td><td>15                </td><td>312                </td><td>812                </td><td>245                </td></tr>\n",
       "<tr><td>missing</td><td>0                 </td><td>0         </td><td>0                 </td><td>0                 </td><td>0                 </td><td>0                 </td><td>0                 </td><td>0                  </td><td>0                  </td><td>0                  </td></tr>\n",
       "<tr><td>0      </td><td>0.0               </td><td>No        </td><td>3.0               </td><td>22.0              </td><td>1.0               </td><td>0.0               </td><td>7.25              </td><td>1.0                </td><td>0.0                </td><td>1.0                </td></tr>\n",
       "<tr><td>1      </td><td>1.0               </td><td>Yes       </td><td>1.0               </td><td>38.0              </td><td>1.0               </td><td>0.0               </td><td>71.2833           </td><td>0.0                </td><td>0.0                </td><td>0.0                </td></tr>\n",
       "<tr><td>2      </td><td>2.0               </td><td>Yes       </td><td>3.0               </td><td>26.0              </td><td>0.0               </td><td>0.0               </td><td>7.925             </td><td>0.0                </td><td>0.0                </td><td>1.0                </td></tr>\n",
       "<tr><td>3      </td><td>3.0               </td><td>Yes       </td><td>1.0               </td><td>35.0              </td><td>1.0               </td><td>0.0               </td><td>53.1              </td><td>0.0                </td><td>0.0                </td><td>1.0                </td></tr>\n",
       "<tr><td>4      </td><td>4.0               </td><td>No        </td><td>3.0               </td><td>35.0              </td><td>0.0               </td><td>0.0               </td><td>8.05              </td><td>1.0                </td><td>0.0                </td><td>1.0                </td></tr>\n",
       "<tr><td>5      </td><td>5.0               </td><td>No        </td><td>3.0               </td><td>24.0              </td><td>0.0               </td><td>0.0               </td><td>8.4583            </td><td>1.0                </td><td>1.0                </td><td>0.0                </td></tr>\n",
       "<tr><td>6      </td><td>6.0               </td><td>No        </td><td>1.0               </td><td>54.0              </td><td>0.0               </td><td>0.0               </td><td>51.8625           </td><td>1.0                </td><td>0.0                </td><td>1.0                </td></tr>\n",
       "<tr><td>7      </td><td>7.0               </td><td>No        </td><td>3.0               </td><td>2.0               </td><td>3.0               </td><td>1.0               </td><td>21.075            </td><td>1.0                </td><td>0.0                </td><td>1.0                </td></tr>\n",
       "<tr><td>8      </td><td>8.0               </td><td>Yes       </td><td>3.0               </td><td>27.0              </td><td>0.0               </td><td>2.0               </td><td>11.1333           </td><td>0.0                </td><td>0.0                </td><td>1.0                </td></tr>\n",
       "<tr><td>9      </td><td>9.0               </td><td>Yes       </td><td>2.0               </td><td>14.0              </td><td>1.0               </td><td>0.0               </td><td>30.0708           </td><td>0.0                </td><td>0.0                </td><td>0.0                </td></tr>\n",
       "</tbody>\n",
       "</table>"
      ]
     },
     "metadata": {},
     "output_type": "display_data"
    }
   ],
   "source": [
    "df = h2o.import_file(r\"C:\\Users\\AK\\Desktop\\52WeeksOfMachineLearning\\Week 5\\output.csv\")\n",
    "df.describe()"
   ]
  },
  {
   "cell_type": "code",
   "execution_count": 14,
   "metadata": {},
   "outputs": [],
   "source": [
    "y = \"Survived\"\n",
    "x = df.columns\n",
    "x.remove(y)"
   ]
  },
  {
   "cell_type": "code",
   "execution_count": 15,
   "metadata": {},
   "outputs": [
    {
     "name": "stdout",
     "output_type": "stream",
     "text": [
      "AutoML progress: |████████████████████████████████████████████████████████| 100%\n",
      "Parse progress: |█████████████████████████████████████████████████████████| 100%\n"
     ]
    }
   ],
   "source": [
    "aml = H2OAutoML(max_models = 10, seed = 1)\n",
    "aml.train(x = x, y = y, training_frame = df)"
   ]
  },
  {
   "cell_type": "code",
   "execution_count": 17,
   "metadata": {},
   "outputs": [],
   "source": [
    "lb = aml.leaderboard"
   ]
  },
  {
   "cell_type": "code",
   "execution_count": 18,
   "metadata": {},
   "outputs": [
    {
     "data": {
      "text/html": [
       "<table>\n",
       "<thead>\n",
       "<tr><th>model_id                                             </th><th style=\"text-align: right;\">     auc</th><th style=\"text-align: right;\">  logloss</th></tr>\n",
       "</thead>\n",
       "<tbody>\n",
       "<tr><td>StackedEnsemble_BestOfFamily_0_AutoML_20180501_152308</td><td style=\"text-align: right;\">0.856303</td><td style=\"text-align: right;\"> 0.441804</td></tr>\n",
       "<tr><td>GBM_grid_0_AutoML_20180501_152308_model_0            </td><td style=\"text-align: right;\">0.85555 </td><td style=\"text-align: right;\"> 0.449624</td></tr>\n",
       "<tr><td>StackedEnsemble_AllModels_0_AutoML_20180501_152308   </td><td style=\"text-align: right;\">0.854748</td><td style=\"text-align: right;\"> 0.442953</td></tr>\n",
       "<tr><td>DRF_0_AutoML_20180501_152308                         </td><td style=\"text-align: right;\">0.847757</td><td style=\"text-align: right;\"> 0.940493</td></tr>\n",
       "<tr><td>GBM_grid_0_AutoML_20180501_152308_model_2            </td><td style=\"text-align: right;\">0.845159</td><td style=\"text-align: right;\"> 0.458157</td></tr>\n",
       "<tr><td>GBM_grid_0_AutoML_20180501_152308_model_1            </td><td style=\"text-align: right;\">0.8443  </td><td style=\"text-align: right;\"> 0.45356 </td></tr>\n",
       "<tr><td>GBM_grid_0_AutoML_20180501_152308_model_3            </td><td style=\"text-align: right;\">0.844015</td><td style=\"text-align: right;\"> 0.462795</td></tr>\n",
       "<tr><td>XRT_0_AutoML_20180501_152308                         </td><td style=\"text-align: right;\">0.838758</td><td style=\"text-align: right;\"> 0.822741</td></tr>\n",
       "<tr><td>DeepLearning_0_AutoML_20180501_152308                </td><td style=\"text-align: right;\">0.834772</td><td style=\"text-align: right;\"> 0.47493 </td></tr>\n",
       "<tr><td>GLM_grid_0_AutoML_20180501_152308_model_0            </td><td style=\"text-align: right;\">0.83182 </td><td style=\"text-align: right;\"> 0.472636</td></tr>\n",
       "</tbody>\n",
       "</table>"
      ]
     },
     "metadata": {},
     "output_type": "display_data"
    },
    {
     "data": {
      "text/plain": []
     },
     "execution_count": 18,
     "metadata": {},
     "output_type": "execute_result"
    }
   ],
   "source": [
    "lb.head()"
   ]
  },
  {
   "cell_type": "code",
   "execution_count": null,
   "metadata": {},
   "outputs": [],
   "source": []
  }
 ],
 "metadata": {
  "kernelspec": {
   "display_name": "Python 3",
   "language": "python",
   "name": "python3"
  },
  "language_info": {
   "codemirror_mode": {
    "name": "ipython",
    "version": 3
   },
   "file_extension": ".py",
   "mimetype": "text/x-python",
   "name": "python",
   "nbconvert_exporter": "python",
   "pygments_lexer": "ipython3",
   "version": "3.6.4"
  }
 },
 "nbformat": 4,
 "nbformat_minor": 2
}
